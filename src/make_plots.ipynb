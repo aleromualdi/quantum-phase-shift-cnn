{
 "metadata": {
  "language_info": {
   "codemirror_mode": {
    "name": "ipython",
    "version": 3
   },
   "file_extension": ".py",
   "mimetype": "text/x-python",
   "name": "python",
   "nbconvert_exporter": "python",
   "pygments_lexer": "ipython3",
   "version": "3.8.7"
  },
  "orig_nbformat": 2,
  "kernelspec": {
   "name": "python387jvsc74a57bd0881f23fd3866798a186387f9a5d2237ebae3f2ad4011da5f7e36ee3f4e2305a7",
   "display_name": "Python 3.8.7 64-bit ('venv': venv)"
  },
  "metadata": {
   "interpreter": {
    "hash": "aee8b7b246df8f9039afb4144a1f6fd8d2ca17a180786b69acc140d282b71a49"
   }
  }
 },
 "nbformat": 4,
 "nbformat_minor": 2,
 "cells": [
  {
   "cell_type": "code",
   "execution_count": 1,
   "metadata": {},
   "outputs": [],
   "source": [
    "import matplotlib.pyplot as plt\n",
    "import seaborn as sns\n",
    "import pandas as pd\n",
    "import numpy as np\n",
    "\n",
    "from potentials import yukawa, exponential_cosine, double_yukawa"
   ]
  },
  {
   "cell_type": "code",
   "execution_count": 2,
   "metadata": {},
   "outputs": [],
   "source": [
    "# Using seaborn's style\n",
    "#plt.style.use('science')\n",
    "#plt.style.use('seaborn-colorblind')\n",
    "plt.style.use('seaborn-dark-palette')\n",
    "#plt.style.use('seaborn-deep')\n",
    "\n",
    "\n",
    "width = 345\n",
    "\n",
    "tex_fonts = {\n",
    "    # Use LaTeX to write all text\n",
    "    \"text.usetex\": True,\n",
    "    \"font.family\": \"serif\",\n",
    "    # Use 10pt font in plots, to match 10pt font in document\n",
    "    \"axes.labelsize\": 10,\n",
    "    \"font.size\": 10,\n",
    "    # Make the legend/label fonts a little smaller\n",
    "    \"legend.fontsize\": 8,\n",
    "    \"xtick.labelsize\": 8,\n",
    "    \"ytick.labelsize\": 8\n",
    "}\n",
    "\n",
    "plt.rcParams.update(tex_fonts)\n",
    "\n",
    "\n",
    "def set_size(width, fraction=1, subplots=(1, 1)):\n",
    "    \"\"\"Set figure dimensions to avoid scaling in LaTeX.\n",
    "\n",
    "    Parameters\n",
    "    ----------\n",
    "    width: float or string\n",
    "            Document width in points, or string of predined document type\n",
    "    fraction: float, optional\n",
    "            Fraction of the width which you wish the figure to occupy\n",
    "    subplots: array-like, optional\n",
    "            The number of rows and columns of subplots.\n",
    "    Returns\n",
    "    -------\n",
    "    fig_dim: tuple\n",
    "            Dimensions of figure in inches\n",
    "    \"\"\"\n",
    "    if width == 'thesis':\n",
    "        width_pt = 426.79135\n",
    "    elif width == 'beamer':\n",
    "        width_pt = 307.28987\n",
    "    else:\n",
    "        width_pt = width\n",
    "\n",
    "    # Width of figure (in pts)\n",
    "    fig_width_pt = width_pt * fraction\n",
    "    # Convert from pt to inches\n",
    "    inches_per_pt = 1 / 72.27\n",
    "\n",
    "    # Golden ratio to set aesthetic figure height\n",
    "    # https://disq.us/p/2940ij3\n",
    "    golden_ratio = (5**.5 - 1) / 2\n",
    "\n",
    "    # Figure width in inches\n",
    "    fig_width_in = fig_width_pt * inches_per_pt\n",
    "    # Figure height in inches\n",
    "    fig_height_in = fig_width_in * golden_ratio * (subplots[0] / subplots[1])\n",
    "\n",
    "    return (fig_width_in, fig_height_in)\n"
   ]
  },
  {
   "cell_type": "code",
   "execution_count": 9,
   "metadata": {},
   "outputs": [],
   "source": [
    "k = '0.1'\n",
    "df_yk = pd.read_pickle('yukawa/output/data_k%s.pkl'%k)\n",
    "df_ec = pd.read_pickle('exp_cosine/output/data_k%s.pkl'%k)\n",
    "df_dyk = pd.read_pickle('double_yukawa/output/data_k%s.pkl'%k)"
   ]
  },
  {
   "cell_type": "code",
   "execution_count": 5,
   "metadata": {},
   "outputs": [],
   "source": [
    "# def adjust_spines(ax, spines, pos=10):\n",
    "#     for loc, spine in ax.spines.items():\n",
    "#         if loc in spines:\n",
    "#             spine.set_position(('outward', pos))  # outward by 10 points\n",
    "#             spine.set_smart_bounds(True)\n",
    "#         else:\n",
    "#             spine.set_color('none')  # don't draw spine\n",
    "            \n",
    "# r = np.linspace(0.1, 8, 100)\n",
    "\n",
    "# img_yk = [yukawa(q=1, r=ri, V_0=5) for ri in r]\n",
    "# img_ec = [exponential_cosine(q=1.5, r=ri, V_0=5) for ri in r]\n",
    "# img_dyk = [double_yukawa(q1=1.5, q2=3.0, r=ri, V_01=10, V_02=20) for ri in r]\n",
    "\n",
    "# fig, ax = plt.subplots(1, 1, figsize=set_size(345, fraction=1), frameon=False)\n",
    "# #fig, ax = plt.subplots(1, 1)\n",
    "\n",
    "# plt.plot(r, img_yk, '.--',label='TF' , linewidth=0.5, markersize=4)\n",
    "# plt.plot(r, img_ec, '.--',label='EC', linewidth=0.5, markersize=4)\n",
    "# plt.plot(r, img_dyk, '.--',label='DY', linewidth=0.5, markersize=4)\n",
    "# plt.axhline(y=0, color='grey', linestyle='--', linewidth=0.8)\n",
    "\n",
    "# plt.xlabel('$r$')\n",
    "# plt.ylabel('$V~(r)$')\n",
    "# plt.legend()\n",
    "# plt.title('Potential images')\n",
    "# plt.legend(frameon=False)\n",
    "# plt.xlim(0, 3)\n",
    "# plt.ylim(-10, 10)\n",
    "\n",
    "# # for spine in ['top', 'right']:\n",
    "# #     ax.spines[spine].set_visible(False)\n",
    "\n",
    "# adjust_spines(ax, ['bottom', 'left'], pos=5)\n",
    "\n",
    "# plt.tight_layout()\n",
    "# #plt.savefig('plot_images.pdf', format='pdf')\n",
    "# plt.show()"
   ]
  },
  {
   "cell_type": "code",
   "execution_count": 23,
   "metadata": {},
   "outputs": [
    {
     "output_type": "execute_result",
     "data": {
      "text/plain": [
       "99"
      ]
     },
     "metadata": {},
     "execution_count": 23
    }
   ],
   "source": [
    "len(r)"
   ]
  },
  {
   "cell_type": "code",
   "execution_count": 101,
   "metadata": {},
   "outputs": [
    {
     "output_type": "stream",
     "name": "stdout",
     "text": [
      "q =  1.00004913778\nq =  1.2034079434\nq =  1.42089907701\nq =  1.62036124308\nq =  1.80106521786\nq =  1.99902951988\n"
     ]
    },
    {
     "output_type": "display_data",
     "data": {
      "text/plain": "<Figure size 360x144 with 7 Axes>",
      "image/svg+xml": "<?xml version=\"1.0\" encoding=\"utf-8\" standalone=\"no\"?>\n<!DOCTYPE svg PUBLIC \"-//W3C//DTD SVG 1.1//EN\"\n  \"http://www.w3.org/Graphics/SVG/1.1/DTD/svg11.dtd\">\n<!-- Created with matplotlib (https://matplotlib.org/) -->\n<svg height=\"138.988641pt\" version=\"1.1\" viewBox=\"0 0 297.12669 138.988641\" width=\"297.12669pt\" xmlns=\"http://www.w3.org/2000/svg\" xmlns:xlink=\"http://www.w3.org/1999/xlink\">\n <metadata>\n  <rdf:RDF xmlns:cc=\"http://creativecommons.org/ns#\" xmlns:dc=\"http://purl.org/dc/elements/1.1/\" xmlns:rdf=\"http://www.w3.org/1999/02/22-rdf-syntax-ns#\">\n   <cc:Work>\n    <dc:type rdf:resource=\"http://purl.org/dc/dcmitype/StillImage\"/>\n    <dc:date>2021-05-01T23:13:47.092717</dc:date>\n    <dc:format>image/svg+xml</dc:format>\n    <dc:creator>\n     <cc:Agent>\n      <dc:title>Matplotlib v3.3.4, https://matplotlib.org/</dc:title>\n     </cc:Agent>\n    </dc:creator>\n   </cc:Work>\n  </rdf:RDF>\n </metadata>\n <defs>\n  <style type=\"text/css\">*{stroke-linecap:butt;stroke-linejoin:round;}</style>\n </defs>\n <g id=\"figure_1\">\n  <g id=\"patch_1\">\n   <path d=\"M 0 138.988641 \nL 297.12669 138.988641 \nL 297.12669 0 \nL 0 0 \nz\n\" style=\"fill:#ffffff;\"/>\n  </g>\n  <g id=\"axes_1\">\n   <g id=\"patch_2\">\n    <path d=\"M 29.52 20.003553 \nL 252.72 20.003553 \nL 252.72 7.212964 \nL 29.52 7.212964 \nz\n\" style=\"fill:#ffffff;\"/>\n   </g>\n   <g clip-path=\"url(#p2d541ac2f1)\">\n    <image height=\"13\" id=\"image14dd46dc86\" transform=\"scale(1 -1)translate(0 -13)\" width=\"224\" x=\"29.52\" xlink:href=\"data:image/png;base64,\niVBORw0KGgoAAAANSUhEUgAAAOAAAAANCAYAAACw92K9AAAAkElEQVR4nO3TMQ5AQBSE4YcDO6BWq+UASo1KQVi1t1uwWZnm/7pJxttEMlUIIZiZWVdZpH3GYYorvctjXLHZ5SXRWV3eEp3D5T3RuVw+E52/NBnf1IXuvum8eSv3dqm3SrytvPtVqf8EIAMDBIQYICDEAAEhBggIMUBAiAECQgwQEGKAgBADBIQYICDEAAGhG1/uEDtESI0KAAAAAElFTkSuQmCC\" y=\"-7.003553\"/>\n   </g>\n   <g id=\"matplotlib.axis_1\"/>\n   <g id=\"matplotlib.axis_2\"/>\n   <g id=\"patch_3\">\n    <path d=\"M 29.52 20.003553 \nL 29.52 7.212964 \n\" style=\"fill:none;stroke:#000000;stroke-linecap:square;stroke-linejoin:miter;stroke-width:0.8;\"/>\n   </g>\n   <g id=\"patch_4\">\n    <path d=\"M 252.72 20.003553 \nL 252.72 7.212964 \n\" style=\"fill:none;stroke:#000000;stroke-linecap:square;stroke-linejoin:miter;stroke-width:0.8;\"/>\n   </g>\n   <g id=\"patch_5\">\n    <path d=\"M 29.52 20.003553 \nL 252.72 20.003553 \n\" style=\"fill:none;stroke:#000000;stroke-linecap:square;stroke-linejoin:miter;stroke-width:0.8;\"/>\n   </g>\n   <g id=\"patch_6\">\n    <path d=\"M 29.52 7.212964 \nL 252.72 7.212964 \n\" style=\"fill:none;stroke:#000000;stroke-linecap:square;stroke-linejoin:miter;stroke-width:0.8;\"/>\n   </g>\n   <g id=\"text_1\">\n    <!-- (a) -->\n    <g transform=\"translate(7.2 16.166376)scale(0.12 -0.12)\">\n     <defs>\n      <path d=\"M 30.59375 -24.390625 \nC 30.59375 -24.296875 30.59375 -24.09375 30.296875 -23.796875 \nC 25.703125 -19.125 13.40625 -6.359375 13.40625 24.703125 \nC 13.40625 55.765625 25.5 68.421875 30.40625 73.390625 \nC 30.40625 73.5 30.59375 73.703125 30.59375 74 \nC 30.59375 74.296875 30.296875 74.5 29.90625 74.5 \nC 28.796875 74.5 20.296875 67.125 15.40625 56.15625 \nC 10.40625 45.109375 9 34.359375 9 24.8125 \nC 9 17.625 9.703125 5.484375 15.703125 -7.359375 \nC 20.5 -17.734375 28.703125 -25 29.90625 -25 \nC 30.40625 -25 30.59375 -24.796875 30.59375 -24.390625 \nz\n\" id=\"CMR17-40\"/>\n      <path d=\"M 36 25.828125 \nC 36 32.375 36 35.84375 31.796875 39.734375 \nC 28.09375 43 23.796875 44 20.40625 44 \nC 12.5 44 6.796875 37.609375 6.796875 30.796875 \nC 6.796875 27 9.796875 27 10.40625 27 \nC 11.703125 27 14 27.78125 14 30.53125 \nC 14 33 12.09375 34.078125 10.40625 34.078125 \nC 10 34.078125 9.5 33.96875 9.203125 33.875 \nC 11.296875 40.5 16.703125 42.40625 20.203125 42.40625 \nC 25.203125 42.40625 30.703125 37.953125 30.703125 29.453125 \nL 30.703125 25 \nC 24.796875 25 17.703125 24.203125 12.09375 21.203125 \nC 5.796875 17.703125 4 12.703125 4 8.90625 \nC 4 1.203125 13 -1 18.296875 -1 \nC 23.796875 -1 28.90625 2.171875 31.09375 7.984375 \nC 31.296875 3.640625 34.09375 -0.28125 38.5 -0.28125 \nC 40.59375 -0.28125 45.90625 1.09375 45.90625 8.859375 \nL 45.90625 14.375 \nL 44.09375 14.375 \nL 44.09375 8.78125 \nC 44.09375 2.78125 41.40625 2 40.09375 2 \nC 36 2 36 7.15625 36 11.53125 \nz\nM 30.703125 13.59375 \nC 30.703125 4.953125 24.5 0.59375 19 0.59375 \nC 14 0.59375 10.09375 4.296875 10.09375 8.90625 \nC 10.09375 11.890625 11.40625 17.1875 17.203125 20.390625 \nC 22 23.09375 27.5 23.5 30.703125 23.5 \nz\n\" id=\"CMR17-97\"/>\n      <path d=\"M 26.296875 24.703125 \nC 26.296875 31.875 25.59375 44.015625 19.59375 56.859375 \nC 14.796875 67.234375 6.59375 74.5 5.40625 74.5 \nC 5.09375 74.5 4.703125 74.390625 4.703125 73.890625 \nC 4.703125 73.703125 4.796875 73.59375 4.90625 73.390625 \nC 9.703125 68.40625 21.90625 55.75 21.90625 24.75 \nC 21.90625 -6.359375 9.796875 -19.015625 4.90625 -24.015625 \nC 4.796875 -24.203125 4.703125 -24.3125 4.703125 -24.5 \nC 4.703125 -25 5.09375 -25 5.40625 -25 \nC 6.5 -25 15 -17.625 19.90625 -6.65625 \nC 24.90625 4.390625 26.296875 15.140625 26.296875 24.703125 \nz\n\" id=\"CMR17-41\"/>\n     </defs>\n     <use transform=\"scale(0.996264)\" xlink:href=\"#CMR17-40\"/>\n     <use transform=\"translate(35.280768 0)scale(0.996264)\" xlink:href=\"#CMR17-97\"/>\n     <use transform=\"translate(80.971245 0)scale(0.996264)\" xlink:href=\"#CMR17-41\"/>\n    </g>\n   </g>\n  </g>\n  <g id=\"axes_2\">\n   <g id=\"patch_7\">\n    <path d=\"M 29.52 39.189435 \nL 252.72 39.189435 \nL 252.72 26.398847 \nL 29.52 26.398847 \nz\n\" style=\"fill:#ffffff;\"/>\n   </g>\n   <g clip-path=\"url(#pa5f5f84fc8)\">\n    <image height=\"13\" id=\"image2c62f89a4c\" transform=\"scale(1 -1)translate(0 -13)\" width=\"224\" x=\"29.52\" xlink:href=\"data:image/png;base64,\niVBORw0KGgoAAAANSUhEUgAAAOAAAAANCAYAAACw92K9AAAAkUlEQVR4nO3TsQ2AMAxEUQPDshklSzAFG1BRIQooQo0TiSgyuua/7pBtheK6lFIyM7Ops8z4jvORjywur/mIbS7vhZnT5aswcxe+RRhc7ht2Iu/4vdJMzZ2vu613Ive8mje2iHpftL/+F0AFCggIUUBAiAICQhQQEKKAgBAFBIQoICBEAQEhCggIUUBAiAICQg9Qvg1IAjRNzwAAAABJRU5ErkJggg==\" y=\"-26.189435\"/>\n   </g>\n   <g id=\"matplotlib.axis_3\"/>\n   <g id=\"matplotlib.axis_4\"/>\n   <g id=\"patch_8\">\n    <path d=\"M 29.52 39.189435 \nL 29.52 26.398847 \n\" style=\"fill:none;stroke:#000000;stroke-linecap:square;stroke-linejoin:miter;stroke-width:0.8;\"/>\n   </g>\n   <g id=\"patch_9\">\n    <path d=\"M 252.72 39.189435 \nL 252.72 26.398847 \n\" style=\"fill:none;stroke:#000000;stroke-linecap:square;stroke-linejoin:miter;stroke-width:0.8;\"/>\n   </g>\n   <g id=\"patch_10\">\n    <path d=\"M 29.52 39.189435 \nL 252.72 39.189435 \n\" style=\"fill:none;stroke:#000000;stroke-linecap:square;stroke-linejoin:miter;stroke-width:0.8;\"/>\n   </g>\n   <g id=\"patch_11\">\n    <path d=\"M 29.52 26.398847 \nL 252.72 26.398847 \n\" style=\"fill:none;stroke:#000000;stroke-linecap:square;stroke-linejoin:miter;stroke-width:0.8;\"/>\n   </g>\n   <g id=\"text_2\">\n    <!-- (b) -->\n    <g transform=\"translate(7.2 35.352258)scale(0.12 -0.12)\">\n     <defs>\n      <path d=\"M 15 68.6875 \nL 3.09375 67.59375 \nL 3.09375 65 \nC 9 65 9.90625 64.40625 9.90625 59.640625 \nL 9.90625 -0.203125 \nL 11.703125 -0.203125 \nL 14.59375 6.890625 \nC 17.5 2.203125 21.796875 -1 27.59375 -1 \nC 37.59375 -1 47.703125 7.8125 47.703125 21.40625 \nC 47.703125 34.1875 38.703125 43.59375 28.59375 43.59375 \nC 22.40625 43.59375 18 40.296875 15 36.40625 \nz\nM 15.203125 31.3125 \nC 15.203125 33.09375 15.203125 33.40625 16.59375 35.5 \nC 20.5 41.515625 26.09375 42 28 42 \nC 31 42 41.296875 40.390625 41.296875 21.5 \nC 41.296875 1.6875 29.5 0.59375 27.09375 0.59375 \nC 24 0.59375 19.5 1.78125 16.296875 7.59375 \nC 15.203125 9.5 15.203125 9.703125 15.203125 11.484375 \nz\n\" id=\"CMR17-98\"/>\n     </defs>\n     <use transform=\"scale(0.996264)\" xlink:href=\"#CMR17-40\"/>\n     <use transform=\"translate(35.280768 0)scale(0.996264)\" xlink:href=\"#CMR17-98\"/>\n     <use transform=\"translate(86.176138 0)scale(0.996264)\" xlink:href=\"#CMR17-41\"/>\n    </g>\n   </g>\n  </g>\n  <g id=\"axes_3\">\n   <g id=\"patch_12\">\n    <path d=\"M 29.52 58.375317 \nL 252.72 58.375317 \nL 252.72 45.584729 \nL 29.52 45.584729 \nz\n\" style=\"fill:#ffffff;\"/>\n   </g>\n   <g clip-path=\"url(#peeec5924ea)\">\n    <image height=\"13\" id=\"image74995fbc25\" transform=\"scale(1 -1)translate(0 -13)\" width=\"224\" x=\"29.52\" xlink:href=\"data:image/png;base64,\niVBORw0KGgoAAAANSUhEUgAAAOAAAAANCAYAAACw92K9AAAAkklEQVR4nO3TwQkCMRAF0FkFG7YPe7Aaq7AC8Sre4tkxiyEszB7eu/1lMgkLf2mttYiIuCyRPc/f+fozEXFL+d6ZeaT86sy8O99mHFM+pHzqnMkzeceWe/69b+3czF1b7B01sntPe0fM/ou93QGsUEAopIBQSAGhkAJCIQWEQgoIhRQQCikgFFJAKKSAUEgBodAHnDkLWukNY2AAAAAASUVORK5CYII=\" y=\"-45.375317\"/>\n   </g>\n   <g id=\"matplotlib.axis_5\"/>\n   <g id=\"matplotlib.axis_6\"/>\n   <g id=\"patch_13\">\n    <path d=\"M 29.52 58.375317 \nL 29.52 45.584729 \n\" style=\"fill:none;stroke:#000000;stroke-linecap:square;stroke-linejoin:miter;stroke-width:0.8;\"/>\n   </g>\n   <g id=\"patch_14\">\n    <path d=\"M 252.72 58.375317 \nL 252.72 45.584729 \n\" style=\"fill:none;stroke:#000000;stroke-linecap:square;stroke-linejoin:miter;stroke-width:0.8;\"/>\n   </g>\n   <g id=\"patch_15\">\n    <path d=\"M 29.52 58.375317 \nL 252.72 58.375317 \n\" style=\"fill:none;stroke:#000000;stroke-linecap:square;stroke-linejoin:miter;stroke-width:0.8;\"/>\n   </g>\n   <g id=\"patch_16\">\n    <path d=\"M 29.52 45.584729 \nL 252.72 45.584729 \n\" style=\"fill:none;stroke:#000000;stroke-linecap:square;stroke-linejoin:miter;stroke-width:0.8;\"/>\n   </g>\n   <g id=\"text_3\">\n    <!-- (c) -->\n    <g transform=\"translate(7.2 54.538141)scale(0.12 -0.12)\">\n     <defs>\n      <path d=\"M 34.90625 35 \nC 33 35 30.203125 35 30.203125 31.515625 \nC 30.203125 28.71875 32.5 27.921875 33.796875 27.921875 \nC 34.5 27.921875 37.40625 28.234375 37.40625 31.625 \nC 37.40625 38.546875 30.59375 43.796875 22.90625 43.796875 \nC 12.296875 43.796875 3.296875 34.03125 3.296875 21.296875 \nC 3.296875 8.0625 12.703125 -1 22.90625 -1 \nC 35.296875 -1 38.40625 10.578125 38.40625 11.6875 \nC 38.40625 12.09375 38.296875 12.390625 37.59375 12.390625 \nC 36.90625 12.390625 36.796875 12.296875 36.40625 10.984375 \nC 33.796875 2.8125 28.09375 0.796875 23.796875 0.796875 \nC 17.40625 0.796875 9.703125 6.671875 9.703125 21.390625 \nC 9.703125 36.53125 17.09375 42 23 42 \nC 26.90625 42 32.703125 40.203125 34.90625 35 \nz\n\" id=\"CMR17-99\"/>\n     </defs>\n     <use transform=\"scale(0.996264)\" xlink:href=\"#CMR17-40\"/>\n     <use transform=\"translate(35.280768 0)scale(0.996264)\" xlink:href=\"#CMR17-99\"/>\n     <use transform=\"translate(75.766428 0)scale(0.996264)\" xlink:href=\"#CMR17-41\"/>\n    </g>\n   </g>\n  </g>\n  <g id=\"axes_4\">\n   <g id=\"patch_17\">\n    <path d=\"M 29.52 77.5612 \nL 252.72 77.5612 \nL 252.72 64.770611 \nL 29.52 64.770611 \nz\n\" style=\"fill:#ffffff;\"/>\n   </g>\n   <g clip-path=\"url(#p742d45022e)\">\n    <image height=\"13\" id=\"image70bc78e893\" transform=\"scale(1 -1)translate(0 -13)\" width=\"224\" x=\"29.52\" xlink:href=\"data:image/png;base64,\niVBORw0KGgoAAAANSUhEUgAAAOAAAAANCAYAAACw92K9AAAAkElEQVR4nO3TsQ2AMAxEUQcEI7MEU7APBTuwAD1FqDEurCjimv86o7MjIV2ptVYzM1uKecf6nrdPwmx38xlkLjffQSZjcvOYyPh5btjJvu2/RXd8ZkhkIn4vs9NyNytzu4e/3vlL6/8G0AEFBIQoICBEAQEhCggIUUBAiAICQhQQEKKAgBAFBIQoICBEAQGhB+ALCm1d0H7aAAAAAElFTkSuQmCC\" y=\"-64.5612\"/>\n   </g>\n   <g id=\"matplotlib.axis_7\"/>\n   <g id=\"matplotlib.axis_8\"/>\n   <g id=\"patch_18\">\n    <path d=\"M 29.52 77.5612 \nL 29.52 64.770611 \n\" style=\"fill:none;stroke:#000000;stroke-linecap:square;stroke-linejoin:miter;stroke-width:0.8;\"/>\n   </g>\n   <g id=\"patch_19\">\n    <path d=\"M 252.72 77.5612 \nL 252.72 64.770611 \n\" style=\"fill:none;stroke:#000000;stroke-linecap:square;stroke-linejoin:miter;stroke-width:0.8;\"/>\n   </g>\n   <g id=\"patch_20\">\n    <path d=\"M 29.52 77.5612 \nL 252.72 77.5612 \n\" style=\"fill:none;stroke:#000000;stroke-linecap:square;stroke-linejoin:miter;stroke-width:0.8;\"/>\n   </g>\n   <g id=\"patch_21\">\n    <path d=\"M 29.52 64.770611 \nL 252.72 64.770611 \n\" style=\"fill:none;stroke:#000000;stroke-linecap:square;stroke-linejoin:miter;stroke-width:0.8;\"/>\n   </g>\n   <g id=\"text_4\">\n    <!-- (d) -->\n    <g transform=\"translate(7.2 73.724023)scale(0.12 -0.12)\">\n     <defs>\n      <path d=\"M 29.203125 67.59375 \nL 29.203125 65 \nC 35.09375 65 36 64.40625 36 59.6875 \nL 36 36.640625 \nC 35.59375 37.140625 31.5 43.59375 23.40625 43.59375 \nC 13.203125 43.59375 3.296875 34.5 3.296875 21.3125 \nC 3.296875 8.203125 12.59375 -1 22.40625 -1 \nC 30.90625 -1 35.296875 5.265625 35.796875 5.9375 \nL 35.796875 -0.984375 \nL 47.90625 -0.984375 \nL 47.90625 2 \nC 42 2 41.09375 2.59375 41.09375 7.390625 \nL 41.09375 68.6875 \nz\nM 35.796875 11.796875 \nC 35.796875 8.796875 34 6.09375 31.703125 4.09375 \nC 28.296875 1.09375 24.90625 0.59375 23 0.59375 \nC 20.09375 0.59375 9.703125 2.09375 9.703125 21.1875 \nC 9.703125 40.8125 21.296875 42 23.90625 42 \nC 28.5 42 32.203125 39.40625 34.5 35.796875 \nC 35.796875 33.703125 35.796875 33.40625 35.796875 31.609375 \nz\n\" id=\"CMR17-100\"/>\n     </defs>\n     <use transform=\"scale(0.996264)\" xlink:href=\"#CMR17-40\"/>\n     <use transform=\"translate(35.280768 0)scale(0.996264)\" xlink:href=\"#CMR17-100\"/>\n     <use transform=\"translate(86.176138 0)scale(0.996264)\" xlink:href=\"#CMR17-41\"/>\n    </g>\n   </g>\n  </g>\n  <g id=\"axes_5\">\n   <g id=\"patch_22\">\n    <path d=\"M 29.52 96.747082 \nL 252.72 96.747082 \nL 252.72 83.956494 \nL 29.52 83.956494 \nz\n\" style=\"fill:#ffffff;\"/>\n   </g>\n   <g clip-path=\"url(#p87f5ac91d7)\">\n    <image height=\"13\" id=\"imagec209f2cfd7\" transform=\"scale(1 -1)translate(0 -13)\" width=\"224\" x=\"29.52\" xlink:href=\"data:image/png;base64,\niVBORw0KGgoAAAANSUhEUgAAAOAAAAANCAYAAACw92K9AAAAmElEQVR4nO3TwQ3CMBBE0TUIRJt0lkNqoA+6SAncnDOTkYgiS4OU/25rjTfxYVrvvVdV1bOVek3f87xJVL1lXkzmY87UVeabyTx+zO5M97g7mnHf1rO7yVwOZPTdLuPoPbdnxN6jRu0ZZc/bE/71v4BToIBAEAUEgiggEEQBgSAKCARRQCCIAgJBFBAIooBAEAUEgiggELQCxSQJhIG2bJ0AAAAASUVORK5CYII=\" y=\"-83.747082\"/>\n   </g>\n   <g id=\"matplotlib.axis_9\"/>\n   <g id=\"matplotlib.axis_10\"/>\n   <g id=\"patch_23\">\n    <path d=\"M 29.52 96.747082 \nL 29.52 83.956494 \n\" style=\"fill:none;stroke:#000000;stroke-linecap:square;stroke-linejoin:miter;stroke-width:0.8;\"/>\n   </g>\n   <g id=\"patch_24\">\n    <path d=\"M 252.72 96.747082 \nL 252.72 83.956494 \n\" style=\"fill:none;stroke:#000000;stroke-linecap:square;stroke-linejoin:miter;stroke-width:0.8;\"/>\n   </g>\n   <g id=\"patch_25\">\n    <path d=\"M 29.52 96.747082 \nL 252.72 96.747082 \n\" style=\"fill:none;stroke:#000000;stroke-linecap:square;stroke-linejoin:miter;stroke-width:0.8;\"/>\n   </g>\n   <g id=\"patch_26\">\n    <path d=\"M 29.52 83.956494 \nL 252.72 83.956494 \n\" style=\"fill:none;stroke:#000000;stroke-linecap:square;stroke-linejoin:miter;stroke-width:0.8;\"/>\n   </g>\n   <g id=\"text_5\">\n    <!-- (e) -->\n    <g transform=\"translate(7.2 92.909906)scale(0.12 -0.12)\">\n     <defs>\n      <path d=\"M 38.09375 23 \nC 38.5 23.40625 38.5 23.609375 38.5 24.625 \nC 38.5 34.96875 33.09375 44 21.703125 44 \nC 11.09375 44 2.703125 33.890625 2.703125 21.609375 \nC 2.703125 8.609375 12.203125 -1 22.796875 -1 \nC 34 -1 38.40625 9.484375 38.40625 11.5625 \nC 38.40625 12.25 37.796875 12.25 37.59375 12.25 \nC 36.90625 12.25 36.796875 12.046875 36.40625 10.875 \nC 34.203125 4.140625 28.703125 0.796875 23.5 0.796875 \nC 19.203125 0.796875 14.90625 3.171875 12.203125 7.5 \nC 9.09375 12.546875 9.09375 18.375 9.09375 23 \nz\nM 9.203125 24.5 \nC 9.90625 39.140625 17.59375 42.40625 21.59375 42.40625 \nC 28.40625 42.40625 33 35.890625 33.09375 24.5 \nz\n\" id=\"CMR17-101\"/>\n     </defs>\n     <use transform=\"scale(0.996264)\" xlink:href=\"#CMR17-40\"/>\n     <use transform=\"translate(35.280768 0)scale(0.996264)\" xlink:href=\"#CMR17-101\"/>\n     <use transform=\"translate(75.766428 0)scale(0.996264)\" xlink:href=\"#CMR17-41\"/>\n    </g>\n   </g>\n  </g>\n  <g id=\"axes_6\">\n   <g id=\"patch_27\">\n    <path d=\"M 29.52 115.932964 \nL 252.72 115.932964 \nL 252.72 103.142376 \nL 29.52 103.142376 \nz\n\" style=\"fill:#ffffff;\"/>\n   </g>\n   <g clip-path=\"url(#pce906a4620)\">\n    <image height=\"13\" id=\"image967b21b138\" transform=\"scale(1 -1)translate(0 -13)\" width=\"224\" x=\"29.52\" xlink:href=\"data:image/png;base64,\niVBORw0KGgoAAAANSUhEUgAAAOAAAAANCAYAAACw92K9AAAAnElEQVR4nO3T2w2CQBSE4UEiGiyMGi3BFuzELuxgfXY8CRtCHB7+7+1shr2QzNBaa5KkZZC7P7/nx09Cetn8LjLuXKxdbb4VmXmHjJ8jSRebpyLjd67e4GtjkfG1U0em2qf6bm2fHj379thy9j8d5X57/W8AG1BAIIgCAkEUEAiigEAQBQSCKCAQRAGBIAoIBFFAIIgCAkEUEAj6AC5DCKS/TcheAAAAAElFTkSuQmCC\" y=\"-102.932964\"/>\n   </g>\n   <g id=\"matplotlib.axis_11\">\n    <g id=\"xtick_1\">\n     <g id=\"line2d_1\">\n      <defs>\n       <path d=\"M 0 0 \nL 0 3.5 \n\" id=\"m5b0aed220b\" style=\"stroke:#000000;stroke-width:0.8;\"/>\n      </defs>\n      <g>\n       <use style=\"stroke:#000000;stroke-width:0.8;\" x=\"29.52\" xlink:href=\"#m5b0aed220b\" y=\"115.932964\"/>\n      </g>\n     </g>\n     <g id=\"text_6\">\n      <!-- 0.4 -->\n      <g transform=\"translate(23.154961 129.851463)scale(0.1 -0.1)\">\n       <defs>\n        <path d=\"M 42 31.640625 \nC 42 37.75 41.90625 48.125 37.703125 56.109375 \nC 34 63.109375 28.09375 65.59375 22.90625 65.59375 \nC 18.09375 65.59375 12 63.40625 8.203125 56.203125 \nC 4.203125 48.71875 3.796875 39.4375 3.796875 31.640625 \nC 3.796875 25.953125 3.90625 17.28125 7 9.671875 \nC 11.296875 -0.609375 19 -2 22.90625 -2 \nC 27.5 -2 34.5 -0.109375 38.59375 9.375 \nC 41.59375 16.28125 42 24.359375 42 31.640625 \nz\nM 22.90625 -0.40625 \nC 16.5 -0.40625 12.703125 5.078125 11.296875 12.6875 \nC 10.203125 18.5625 10.203125 27.15625 10.203125 32.75 \nC 10.203125 40.4375 10.203125 46.828125 11.5 52.921875 \nC 13.40625 61.390625 19 64 22.90625 64 \nC 27 64 32.296875 61.296875 34.203125 53.125 \nC 35.5 47.4375 35.59375 40.734375 35.59375 32.75 \nC 35.59375 26.25 35.59375 18.265625 34.40625 12.375 \nC 32.296875 1.484375 26.40625 -0.40625 22.90625 -0.40625 \nz\n\" id=\"CMR17-48\"/>\n        <path d=\"M 16.59375 4.078125 \nC 16.59375 6.5625 14.59375 8.15625 12.5 8.15625 \nC 10.5 8.15625 8.40625 6.5625 8.40625 4.078125 \nC 8.40625 1.59375 10.40625 0 12.5 0 \nC 14.5 0 16.59375 1.59375 16.59375 4.078125 \nz\n\" id=\"CMR17-46\"/>\n        <path d=\"M 33.59375 64.40625 \nC 33.59375 66.5 33.5 66.5 31.703125 66.5 \nL 2 19.59375 \nL 2 17 \nL 27.796875 17 \nL 27.796875 7.140625 \nC 27.796875 3.5 27.59375 2.5 20.59375 2.5 \nL 18.703125 2.5 \nL 18.703125 0 \nC 21.90625 0 27.296875 0 30.703125 0 \nC 34.09375 0 39.5 0 42.703125 0 \nL 42.703125 2.5 \nL 40.796875 2.5 \nC 33.796875 2.5 33.59375 3.5 33.59375 7.140625 \nL 33.59375 17 \nL 43.796875 17 \nL 43.796875 19.59375 \nL 33.59375 19.59375 \nz\nM 28.09375 57.859375 \nL 28.09375 19.59375 \nL 4 19.59375 \nz\n\" id=\"CMR17-52\"/>\n       </defs>\n       <use transform=\"scale(0.996264)\" xlink:href=\"#CMR17-48\"/>\n       <use transform=\"translate(45.690477 0)scale(0.996264)\" xlink:href=\"#CMR17-46\"/>\n       <use transform=\"translate(70.561536 0)scale(0.996264)\" xlink:href=\"#CMR17-52\"/>\n      </g>\n     </g>\n    </g>\n    <g id=\"xtick_2\">\n     <g id=\"line2d_2\">\n      <g>\n       <use style=\"stroke:#000000;stroke-width:0.8;\" x=\"61.405714\" xlink:href=\"#m5b0aed220b\" y=\"115.932964\"/>\n      </g>\n     </g>\n     <g id=\"text_7\">\n      <!-- 0.8 -->\n      <g transform=\"translate(55.040675 129.851463)scale(0.1 -0.1)\">\n       <defs>\n        <path d=\"M 27.203125 35.375 \nC 33.5 38.546875 39.90625 43.328125 39.90625 50.984375 \nC 39.90625 60.015625 31.09375 65.296875 23 65.296875 \nC 13.90625 65.296875 5.90625 58.734375 5.90625 49.6875 \nC 5.90625 47.203125 6.5 42.921875 10.40625 39.140625 \nC 11.40625 38.15625 15.59375 35.171875 18.296875 33.28125 \nC 13.796875 30.984375 3.296875 25.53125 3.296875 14.59375 \nC 3.296875 4.359375 13.09375 -2 22.796875 -2 \nC 33.5 -2 42.5 5.65625 42.5 15.78125 \nC 42.5 24.84375 36.40625 29.015625 32.40625 31.703125 \nz\nM 14.09375 44.09375 \nC 13.296875 44.59375 9.296875 47.671875 9.296875 52.359375 \nC 9.296875 58.421875 15.59375 63 22.796875 63 \nC 30.703125 63 36.5 57.4375 36.5 50.96875 \nC 36.5 41.703125 26.09375 36.421875 25.59375 36.421875 \nC 25.5 36.421875 25.40625 36.421875 24.59375 37.03125 \nz\nM 32.5 23.734375 \nC 34 22.640625 38.796875 19.375 38.796875 13.296875 \nC 38.796875 5.953125 31.40625 0.390625 23 0.390625 \nC 13.90625 0.390625 7 6.84375 7 14.6875 \nC 7 22.546875 13.09375 29.09375 20 32.1875 \nz\n\" id=\"CMR17-56\"/>\n       </defs>\n       <use transform=\"scale(0.996264)\" xlink:href=\"#CMR17-48\"/>\n       <use transform=\"translate(45.690477 0)scale(0.996264)\" xlink:href=\"#CMR17-46\"/>\n       <use transform=\"translate(70.561536 0)scale(0.996264)\" xlink:href=\"#CMR17-56\"/>\n      </g>\n     </g>\n    </g>\n    <g id=\"xtick_3\">\n     <g id=\"line2d_3\">\n      <g>\n       <use style=\"stroke:#000000;stroke-width:0.8;\" x=\"93.291429\" xlink:href=\"#m5b0aed220b\" y=\"115.932964\"/>\n      </g>\n     </g>\n     <g id=\"text_8\">\n      <!-- 1.1 -->\n      <g transform=\"translate(86.926389 129.851463)scale(0.1 -0.1)\">\n       <defs>\n        <path d=\"M 26.59375 63.40625 \nC 26.59375 65.5 26.5 65.5 25.09375 65.5 \nC 21.203125 61.1875 15.296875 59.796875 9.703125 59.796875 \nC 9.40625 59.796875 8.90625 59.796875 8.796875 59.5 \nC 8.703125 59.296875 8.703125 59.09375 8.703125 57 \nC 11.796875 57 17 57.59375 21 59.984375 \nL 21 7.203125 \nC 21 3.6875 20.796875 2.5 12.203125 2.5 \nL 9.203125 2.5 \nL 9.203125 0 \nC 14 0 19 0 23.796875 0 \nC 28.59375 0 33.59375 0 38.40625 0 \nL 38.40625 2.5 \nL 35.40625 2.5 \nC 26.796875 2.5 26.59375 3.59375 26.59375 7.15625 \nz\n\" id=\"CMR17-49\"/>\n       </defs>\n       <use transform=\"scale(0.996264)\" xlink:href=\"#CMR17-49\"/>\n       <use transform=\"translate(45.690477 0)scale(0.996264)\" xlink:href=\"#CMR17-46\"/>\n       <use transform=\"translate(70.561536 0)scale(0.996264)\" xlink:href=\"#CMR17-49\"/>\n      </g>\n     </g>\n    </g>\n    <g id=\"xtick_4\">\n     <g id=\"line2d_4\">\n      <g>\n       <use style=\"stroke:#000000;stroke-width:0.8;\" x=\"125.177143\" xlink:href=\"#m5b0aed220b\" y=\"115.932964\"/>\n      </g>\n     </g>\n     <g id=\"text_9\">\n      <!-- 1.5 -->\n      <g transform=\"translate(118.812103 129.851463)scale(0.1 -0.1)\">\n       <defs>\n        <path d=\"M 11.40625 57.6875 \nC 12.40625 57.28125 16.5 56 20.703125 56 \nC 30 56 35.09375 61.109375 38 64.0625 \nC 38 64.953125 38 65.5 37.40625 65.5 \nC 37.296875 65.5 37.09375 65.5 36.296875 65.046875 \nC 32.796875 63.40625 28.703125 62.078125 23.703125 62.078125 \nC 20.703125 62.078125 16.203125 62.484375 11.296875 64.671875 \nC 10.203125 65.171875 10 65.171875 9.90625 65.171875 \nC 9.40625 65.171875 9.296875 65.0625 9.296875 63.078125 \nL 9.296875 34.421875 \nC 9.296875 32.640625 9.296875 32.140625 10.296875 32.140625 \nC 10.796875 32.140625 11 32.34375 11.5 33.03125 \nC 14.703125 37.515625 19.09375 39.40625 24.09375 39.40625 \nC 27.59375 39.40625 35.09375 37.21875 35.09375 20.140625 \nC 35.09375 16.953125 35.09375 11.171875 32.09375 6.578125 \nC 29.59375 2.484375 25.703125 0.390625 21.40625 0.390625 \nC 14.796875 0.390625 8.09375 5 6.296875 12.71875 \nC 6.703125 12.609375 7.5 12.421875 7.90625 12.421875 \nC 9.203125 12.421875 11.703125 13.125 11.703125 16.21875 \nC 11.703125 18.90625 9.796875 20 7.90625 20 \nC 5.59375 20 4.09375 18.59375 4.09375 15.796875 \nC 4.09375 7.09375 11 -2 21.59375 -2 \nC 31.90625 -2 41.703125 6.875 41.703125 19.75 \nC 41.703125 31.71875 33.90625 41 24.203125 41 \nC 19.09375 41 14.796875 39.109375 11.40625 35.53125 \nz\n\" id=\"CMR17-53\"/>\n       </defs>\n       <use transform=\"scale(0.996264)\" xlink:href=\"#CMR17-49\"/>\n       <use transform=\"translate(45.690477 0)scale(0.996264)\" xlink:href=\"#CMR17-46\"/>\n       <use transform=\"translate(70.561536 0)scale(0.996264)\" xlink:href=\"#CMR17-53\"/>\n      </g>\n     </g>\n    </g>\n    <g id=\"xtick_5\">\n     <g id=\"line2d_5\">\n      <g>\n       <use style=\"stroke:#000000;stroke-width:0.8;\" x=\"157.062857\" xlink:href=\"#m5b0aed220b\" y=\"115.932964\"/>\n      </g>\n     </g>\n     <g id=\"text_10\">\n      <!-- 1.9 -->\n      <g transform=\"translate(150.697818 129.851463)scale(0.1 -0.1)\">\n       <defs>\n        <path d=\"M 35.203125 29.125 \nC 35.203125 7.25 26.09375 0.484375 18.59375 0.484375 \nC 16.296875 0.484375 10.703125 0.484375 8.40625 4.59375 \nC 11 4.1875 12.90625 5.578125 12.90625 8.09375 \nC 12.90625 10.8125 10.703125 11.703125 9.296875 11.703125 \nC 8.40625 11.703125 5.703125 11.296875 5.703125 7.90625 \nC 5.703125 1.109375 11.59375 -2 18.796875 -2 \nC 30.296875 -2 42 10.53125 42 32.390625 \nC 42 59.640625 30.796875 65.296875 23.203125 65.296875 \nC 13.296875 65.296875 3.796875 56.6875 3.796875 43.40625 \nC 3.796875 31.109375 11.90625 22 22.09375 22 \nC 30.5 22 34.203125 29.734375 35.203125 33 \nz\nM 22.296875 23.59375 \nC 19.59375 23.59375 15.796875 24.09375 12.703125 30.03125 \nC 10.59375 33.890625 10.59375 38.453125 10.59375 43.296875 \nC 10.59375 49.15625 10.59375 53.203125 13.40625 57.5625 \nC 14.796875 59.640625 17.40625 63 23.203125 63 \nC 35 63 35 45.078125 35 41.125 \nC 35 34.09375 31.796875 23.59375 22.296875 23.59375 \nz\n\" id=\"CMR17-57\"/>\n       </defs>\n       <use transform=\"scale(0.996264)\" xlink:href=\"#CMR17-49\"/>\n       <use transform=\"translate(45.690477 0)scale(0.996264)\" xlink:href=\"#CMR17-46\"/>\n       <use transform=\"translate(70.561536 0)scale(0.996264)\" xlink:href=\"#CMR17-57\"/>\n      </g>\n     </g>\n    </g>\n    <g id=\"xtick_6\">\n     <g id=\"line2d_6\">\n      <g>\n       <use style=\"stroke:#000000;stroke-width:0.8;\" x=\"188.948571\" xlink:href=\"#m5b0aed220b\" y=\"115.932964\"/>\n      </g>\n     </g>\n     <g id=\"text_11\">\n      <!-- 2.3 -->\n      <g transform=\"translate(182.583532 129.851463)scale(0.1 -0.1)\">\n       <defs>\n        <path d=\"M 41.703125 15.453125 \nL 39.90625 15.453125 \nC 38.90625 8.375 38.09375 7.171875 37.703125 6.5625 \nC 37.203125 5.765625 30 5.765625 28.59375 5.765625 \nL 9.40625 5.765625 \nC 13 9.671875 20 16.75 28.5 24.953125 \nC 34.59375 30.734375 41.703125 37.53125 41.703125 47.421875 \nC 41.703125 59.21875 32.296875 66 21.796875 66 \nC 10.796875 66 4.09375 56.3125 4.09375 47.34375 \nC 4.09375 43.4375 7 42.9375 8.203125 42.9375 \nC 9.203125 42.9375 12.203125 43.546875 12.203125 47.03125 \nC 12.203125 50.109375 9.59375 51 8.203125 51 \nC 7.59375 51 7 50.90625 6.59375 50.703125 \nC 8.5 59.21875 14.296875 63.40625 20.40625 63.40625 \nC 29.09375 63.40625 34.796875 56.515625 34.796875 47.421875 \nC 34.796875 38.734375 29.703125 31.25 24 24.75 \nL 4.09375 2.28125 \nL 4.09375 0 \nL 39.296875 0 \nz\n\" id=\"CMR17-50\"/>\n        <path d=\"M 22.09375 33.703125 \nC 31 33.703125 34.90625 25.96875 34.90625 17.03125 \nC 34.90625 5 28.5 0.390625 22.703125 0.390625 \nC 17.40625 0.390625 8.796875 3.03125 6.09375 10.828125 \nC 6.59375 10.625 7.09375 10.625 7.59375 10.625 \nC 10 10.625 11.796875 12.21875 11.796875 14.8125 \nC 11.796875 17.703125 9.59375 19 7.59375 19 \nC 5.90625 19 3.296875 18.203125 3.296875 14.46875 \nC 3.296875 5.234375 12.296875 -2 22.90625 -2 \nC 34 -2 42.5 6.71875 42.5 16.953125 \nC 42.5 26.671875 34.5 33.703125 25 34.796875 \nC 32.59375 36.375 39.90625 43.0625 39.90625 52.015625 \nC 39.90625 59.6875 32 65.296875 23 65.296875 \nC 13.90625 65.296875 5.90625 59.828125 5.90625 52.015625 \nC 5.90625 48.59375 8.5 48 9.796875 48 \nC 11.90625 48 13.703125 49.296875 13.703125 51.890625 \nC 13.703125 54.46875 11.90625 55.765625 9.796875 55.765625 \nC 9.40625 55.765625 8.90625 55.765625 8.5 55.578125 \nC 11.40625 61.859375 19.296875 63 22.796875 63 \nC 26.296875 63 32.90625 61.328125 32.90625 51.875 \nC 32.90625 49.109375 32.5 44.1875 29.09375 39.84375 \nC 26.09375 36 22.703125 36 19.40625 35.6875 \nC 18.90625 35.6875 16.59375 35.453125 16.203125 35.453125 \nC 15.5 35.359375 15.09375 35.265625 15.09375 34.5 \nC 15.09375 33.796875 15.203125 33.703125 17.203125 33.703125 \nz\n\" id=\"CMR17-51\"/>\n       </defs>\n       <use transform=\"scale(0.996264)\" xlink:href=\"#CMR17-50\"/>\n       <use transform=\"translate(45.690477 0)scale(0.996264)\" xlink:href=\"#CMR17-46\"/>\n       <use transform=\"translate(70.561536 0)scale(0.996264)\" xlink:href=\"#CMR17-51\"/>\n      </g>\n     </g>\n    </g>\n    <g id=\"xtick_7\">\n     <g id=\"line2d_7\">\n      <g>\n       <use style=\"stroke:#000000;stroke-width:0.8;\" x=\"220.834286\" xlink:href=\"#m5b0aed220b\" y=\"115.932964\"/>\n      </g>\n     </g>\n     <g id=\"text_12\">\n      <!-- 2.6 -->\n      <g transform=\"translate(214.469246 129.851463)scale(0.1 -0.1)\">\n       <defs>\n        <path d=\"M 10.59375 34 \nC 10.59375 57.65625 21.796875 63 28.296875 63 \nC 30.40625 63 35.5 62.640625 37.5 59 \nC 35.90625 59 32.90625 59 32.90625 55.515625 \nC 32.90625 52.828125 35.09375 51.921875 36.5 51.921875 \nC 37.40625 51.921875 40.09375 52.3125 40.09375 55.625 \nC 40.09375 61.78125 35.09375 65.296875 28.203125 65.296875 \nC 16.296875 65.296875 3.796875 52.96875 3.796875 31 \nC 3.796875 3.953125 15.09375 -2 23.09375 -2 \nC 32.796875 -2 42 6.671875 42 20.046875 \nC 42 32.515625 33.90625 41.59375 23.703125 41.59375 \nC 17.59375 41.59375 13.09375 37.609375 10.59375 30.625 \nz\nM 23.09375 0.390625 \nC 10.796875 0.390625 10.796875 18.75 10.796875 22.4375 \nC 10.796875 29.625 14.203125 40 23.5 40 \nC 25.203125 40 30.09375 40 33.40625 33.125 \nC 35.203125 29.21875 35.203125 25.140625 35.203125 20.140625 \nC 35.203125 14.75 35.203125 10.78125 33.09375 6.78125 \nC 30.90625 2.671875 27.703125 0.390625 23.09375 0.390625 \nz\n\" id=\"CMR17-54\"/>\n       </defs>\n       <use transform=\"scale(0.996264)\" xlink:href=\"#CMR17-50\"/>\n       <use transform=\"translate(45.690477 0)scale(0.996264)\" xlink:href=\"#CMR17-46\"/>\n       <use transform=\"translate(70.561536 0)scale(0.996264)\" xlink:href=\"#CMR17-54\"/>\n      </g>\n     </g>\n    </g>\n    <g id=\"xtick_8\">\n     <g id=\"line2d_8\">\n      <g>\n       <use style=\"stroke:#000000;stroke-width:0.8;\" x=\"252.72\" xlink:href=\"#m5b0aed220b\" y=\"115.932964\"/>\n      </g>\n     </g>\n     <g id=\"text_13\">\n      <!-- 3.0 -->\n      <g transform=\"translate(246.354961 129.851463)scale(0.1 -0.1)\">\n       <use transform=\"scale(0.996264)\" xlink:href=\"#CMR17-51\"/>\n       <use transform=\"translate(45.690477 0)scale(0.996264)\" xlink:href=\"#CMR17-46\"/>\n       <use transform=\"translate(70.561536 0)scale(0.996264)\" xlink:href=\"#CMR17-48\"/>\n      </g>\n     </g>\n    </g>\n   </g>\n   <g id=\"matplotlib.axis_12\"/>\n   <g id=\"patch_28\">\n    <path d=\"M 29.52 115.932964 \nL 29.52 103.142376 \n\" style=\"fill:none;stroke:#000000;stroke-linecap:square;stroke-linejoin:miter;stroke-width:0.8;\"/>\n   </g>\n   <g id=\"patch_29\">\n    <path d=\"M 252.72 115.932964 \nL 252.72 103.142376 \n\" style=\"fill:none;stroke:#000000;stroke-linecap:square;stroke-linejoin:miter;stroke-width:0.8;\"/>\n   </g>\n   <g id=\"patch_30\">\n    <path d=\"M 29.52 115.932964 \nL 252.72 115.932964 \n\" style=\"fill:none;stroke:#000000;stroke-linecap:square;stroke-linejoin:miter;stroke-width:0.8;\"/>\n   </g>\n   <g id=\"patch_31\">\n    <path d=\"M 29.52 103.142376 \nL 252.72 103.142376 \n\" style=\"fill:none;stroke:#000000;stroke-linecap:square;stroke-linejoin:miter;stroke-width:0.8;\"/>\n   </g>\n   <g id=\"text_14\">\n    <!-- (f) -->\n    <g transform=\"translate(7.2 112.095788)scale(0.12 -0.12)\">\n     <defs>\n      <path d=\"M 15.296875 40 \nL 26.703125 40 \nL 26.703125 42.578125 \nL 15.09375 42.578125 \nL 15.09375 54.59375 \nC 15.09375 62.84375 19.296875 68 23.59375 68 \nC 24.90625 68 26.40625 67.609375 27.40625 66.90625 \nC 26.59375 66.703125 24.5 66.015625 24.5 63.546875 \nC 24.5 60.953125 26.5 60.15625 27.90625 60.15625 \nC 29.296875 60.15625 31.296875 60.953125 31.296875 63.546875 \nC 31.296875 67.3125 27.703125 69.59375 23.703125 69.59375 \nC 18 69.59375 10.203125 64.9375 10.203125 54.390625 \nL 10.203125 42.578125 \nL 2.203125 42.578125 \nL 2.203125 40 \nL 10.203125 40 \nL 10.203125 6.671875 \nC 10.203125 2.875 9.796875 2.390625 3.40625 2.390625 \nL 3.40625 -0.203125 \nC 5.796875 0 10.40625 0 13 0 \nC 15.90625 0 21 0 23.703125 -0.203125 \nL 23.703125 2.390625 \nC 16.5 2.390625 15.296875 2.390625 15.296875 6.859375 \nz\n\" id=\"CMR17-102\"/>\n     </defs>\n     <use transform=\"scale(0.996264)\" xlink:href=\"#CMR17-40\"/>\n     <use transform=\"translate(35.280768 0)scale(0.996264)\" xlink:href=\"#CMR17-102\"/>\n     <use transform=\"translate(68.659793 0)scale(0.996264)\" xlink:href=\"#CMR17-41\"/>\n    </g>\n   </g>\n  </g>\n  <g id=\"axes_7\">\n   <g id=\"patch_32\">\n    <path clip-path=\"url(#p1b64bd9e40)\" d=\"M 266.67 115.932964 \nL 266.67 115.508277 \nL 266.67 7.637652 \nL 266.67 7.212964 \nL 272.106 7.212964 \nL 272.106 7.637652 \nL 272.106 115.508277 \nL 272.106 115.932964 \nz\n\" style=\"fill:#ffffff;stroke:#ffffff;stroke-linejoin:miter;stroke-width:0.01;\"/>\n   </g>\n   <image height=\"109\" id=\"image7bfbcf9d83\" transform=\"scale(1 -1)translate(0 -109)\" width=\"5\" x=\"267\" xlink:href=\"data:image/png;base64,\niVBORw0KGgoAAAANSUhEUgAAAAUAAABtCAYAAABpyKvSAAAAiUlEQVR4nNVTywrAIAxLR/eA7bD//9XBuruNUCjq9BgSk8YqN2Aojq4lUgWPMHPLyePMFjn3MHNseMr8Yc6ZSxZbyJcBCaogegVxqjCTchqpm3syJ9mGeUruFr7FmCNLFnvZ5xJfqAIXA/2lCpxhJgXjRnE5naibO2UmS07mzLyRmD1ubcTMHPgBLssSdXzkjakAAAAASUVORK5CYII=\" y=\"-6\"/>\n   <g id=\"matplotlib.axis_13\"/>\n   <g id=\"matplotlib.axis_14\">\n    <g id=\"ytick_1\">\n     <g id=\"line2d_9\">\n      <defs>\n       <path d=\"M 0 0 \nL 3.5 0 \n\" id=\"m0ec5fe36d9\" style=\"stroke:#000000;stroke-width:0.8;\"/>\n      </defs>\n      <g>\n       <use style=\"stroke:#000000;stroke-width:0.8;\" x=\"272.106\" xlink:href=\"#m0ec5fe36d9\" y=\"115.772709\"/>\n      </g>\n     </g>\n     <g id=\"text_15\">\n      <!-- $\\mathdefault{−2}$ -->\n      <g transform=\"translate(279.106 118.54011)scale(0.08 -0.08)\">\n       <defs>\n        <path d=\"M 65.90625 23 \nC 67.59375 23 69.40625 23 69.40625 25 \nC 69.40625 27 67.59375 27 65.90625 27 \nL 11.796875 27 \nC 10.09375 27 8.296875 27 8.296875 25 \nC 8.296875 23 10.09375 23 11.796875 23 \nz\n\" id=\"CMSY10-0\"/>\n       </defs>\n       <use transform=\"scale(0.996264)\" xlink:href=\"#CMSY10-0\"/>\n       <use transform=\"translate(77.487468 0)scale(0.996264)\" xlink:href=\"#CMR17-50\"/>\n      </g>\n     </g>\n    </g>\n    <g id=\"ytick_2\">\n     <g id=\"line2d_10\">\n      <g>\n       <use style=\"stroke:#000000;stroke-width:0.8;\" x=\"272.106\" xlink:href=\"#m0ec5fe36d9\" y=\"94.981815\"/>\n      </g>\n     </g>\n     <g id=\"text_16\">\n      <!-- $\\mathdefault{0}$ -->\n      <g transform=\"translate(279.106 97.749215)scale(0.08 -0.08)\">\n       <use transform=\"scale(0.996264)\" xlink:href=\"#CMR17-48\"/>\n      </g>\n     </g>\n    </g>\n    <g id=\"ytick_3\">\n     <g id=\"line2d_11\">\n      <g>\n       <use style=\"stroke:#000000;stroke-width:0.8;\" x=\"272.106\" xlink:href=\"#m0ec5fe36d9\" y=\"74.19092\"/>\n      </g>\n     </g>\n     <g id=\"text_17\">\n      <!-- $\\mathdefault{2}$ -->\n      <g transform=\"translate(279.106 76.958321)scale(0.08 -0.08)\">\n       <use transform=\"scale(0.996264)\" xlink:href=\"#CMR17-50\"/>\n      </g>\n     </g>\n    </g>\n    <g id=\"ytick_4\">\n     <g id=\"line2d_12\">\n      <g>\n       <use style=\"stroke:#000000;stroke-width:0.8;\" x=\"272.106\" xlink:href=\"#m0ec5fe36d9\" y=\"53.400026\"/>\n      </g>\n     </g>\n     <g id=\"text_18\">\n      <!-- $\\mathdefault{4}$ -->\n      <g transform=\"translate(279.106 56.167427)scale(0.08 -0.08)\">\n       <use transform=\"scale(0.996264)\" xlink:href=\"#CMR17-52\"/>\n      </g>\n     </g>\n    </g>\n    <g id=\"ytick_5\">\n     <g id=\"line2d_13\">\n      <g>\n       <use style=\"stroke:#000000;stroke-width:0.8;\" x=\"272.106\" xlink:href=\"#m0ec5fe36d9\" y=\"32.609132\"/>\n      </g>\n     </g>\n     <g id=\"text_19\">\n      <!-- $\\mathdefault{6}$ -->\n      <g transform=\"translate(279.106 35.376533)scale(0.08 -0.08)\">\n       <use transform=\"scale(0.996264)\" xlink:href=\"#CMR17-54\"/>\n      </g>\n     </g>\n    </g>\n    <g id=\"ytick_6\">\n     <g id=\"line2d_14\">\n      <g>\n       <use style=\"stroke:#000000;stroke-width:0.8;\" x=\"272.106\" xlink:href=\"#m0ec5fe36d9\" y=\"11.818238\"/>\n      </g>\n     </g>\n     <g id=\"text_20\">\n      <!-- $\\mathdefault{8}$ -->\n      <g transform=\"translate(279.106 14.585639)scale(0.08 -0.08)\">\n       <use transform=\"scale(0.996264)\" xlink:href=\"#CMR17-56\"/>\n      </g>\n     </g>\n    </g>\n   </g>\n   <g id=\"patch_33\">\n    <path d=\"M 266.67 115.932964 \nL 266.67 115.508277 \nL 266.67 7.637652 \nL 266.67 7.212964 \nL 272.106 7.212964 \nL 272.106 7.637652 \nL 272.106 115.508277 \nL 272.106 115.932964 \nz\n\" style=\"fill:none;stroke:#000000;stroke-linejoin:miter;stroke-width:0.8;\"/>\n   </g>\n  </g>\n </g>\n <defs>\n  <clipPath id=\"p2d541ac2f1\">\n   <rect height=\"12.790588\" width=\"223.2\" x=\"29.52\" y=\"7.212964\"/>\n  </clipPath>\n  <clipPath id=\"pa5f5f84fc8\">\n   <rect height=\"12.790588\" width=\"223.2\" x=\"29.52\" y=\"26.398847\"/>\n  </clipPath>\n  <clipPath id=\"peeec5924ea\">\n   <rect height=\"12.790588\" width=\"223.2\" x=\"29.52\" y=\"45.584729\"/>\n  </clipPath>\n  <clipPath id=\"p742d45022e\">\n   <rect height=\"12.790588\" width=\"223.2\" x=\"29.52\" y=\"64.770611\"/>\n  </clipPath>\n  <clipPath id=\"p87f5ac91d7\">\n   <rect height=\"12.790588\" width=\"223.2\" x=\"29.52\" y=\"83.956494\"/>\n  </clipPath>\n  <clipPath id=\"pce906a4620\">\n   <rect height=\"12.790588\" width=\"223.2\" x=\"29.52\" y=\"103.142376\"/>\n  </clipPath>\n  <clipPath id=\"p1b64bd9e40\">\n   <rect height=\"108.72\" width=\"5.436\" x=\"266.67\" y=\"7.212964\"/>\n  </clipPath>\n </defs>\n</svg>\n",
      "image/png": "[encoded data removed]"
     },
     "metadata": {}
    }
   ],
   "source": [
    "fig, axs = plt.subplots(6, 1, figsize=(5, 2), facecolor='w', edgecolor='k')\n",
    "fig.subplots_adjust(hspace = .5, wspace=.001)\n",
    "\n",
    "r = np.arange(0.1, 6, 0.06)\n",
    "labels = ['(a)', '(b)', '(c)', '(d)', '(e)', '(f)']\n",
    "axs = axs.ravel()\n",
    "\n",
    "for i, j in enumerate([0, 200, 400, 600, 800, 999]):\n",
    "    tdf = df_dyk.sort_values(by=['q'])\n",
    "    print('q = ', tdf.iloc[j]['q'])\n",
    "    data = tdf.iloc[j]['V'][2:]\n",
    "    data = data.reshape(len(r)-2, 1)\n",
    "\n",
    "    im = axs[i].imshow( data.T, cmap='hot', interpolation='nearest', aspect=\"auto\" )\n",
    "    axs[i].text(-0.1, 0.3, labels[i], transform=axs[i].transAxes, size=12)\n",
    "    axs[i].set_xlim(0, 50)\n",
    "    axs[i].set(xticks=[], yticks=[])\n",
    "\n",
    "plt.xticks(\n",
    "    np.linspace(0, 50, 8),\n",
    "    [round(r, 1) for r in np.linspace(0.4, 3, 8)],\n",
    "    rotation='horizontal',\n",
    "    size=10)\n",
    "cbar = fig.colorbar(im, ax=axs.ravel().tolist(), shrink=1.0)\n",
    "\n",
    "#plt.savefig('plot_images.pdf')\n",
    "plt.show()"
   ]
  },
  {
   "cell_type": "code",
   "execution_count": null,
   "metadata": {},
   "outputs": [],
   "source": []
  },
  {
   "cell_type": "code",
   "execution_count": 102,
   "metadata": {},
   "outputs": [
    {
     "output_type": "execute_result",
     "data": {
      "text/plain": [
       "0.22"
      ]
     },
     "metadata": {},
     "execution_count": 102
    }
   ],
   "source": [
    "r[2]"
   ]
  },
  {
   "cell_type": "code",
   "execution_count": null,
   "metadata": {},
   "outputs": [],
   "source": []
  }
 ]
}